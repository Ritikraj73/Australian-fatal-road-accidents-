{
 "cells": [
  {
   "cell_type": "markdown",
   "id": "ead9f99e",
   "metadata": {},
   "source": [
    "# Australian Fatal Road Accidents 1989-2021"
   ]
  },
  {
   "cell_type": "markdown",
   "id": "bd9f0926",
   "metadata": {},
   "source": [
    "## Name - Ritik Raj"
   ]
  },
  {
   "cell_type": "markdown",
   "id": "12ae7fd9",
   "metadata": {},
   "source": [
    "## Reg no. - 12015141 "
   ]
  },
  {
   "cell_type": "markdown",
   "id": "836c7221",
   "metadata": {},
   "source": [
    "## Section - K20MD "
   ]
  },
  {
   "cell_type": "markdown",
   "id": "13866c29",
   "metadata": {},
   "source": [
    "## Roll - A34"
   ]
  },
  {
   "cell_type": "markdown",
   "id": "5f1fdc32",
   "metadata": {},
   "source": [
    "### Q.1 Why have You chosen this project?"
   ]
  },
  {
   "cell_type": "markdown",
   "id": "7e4914c2",
   "metadata": {},
   "source": [
    " we all know how much life is precious to us.Accidents are one of the measure cause of death.According to Jerome Carslake,\n",
    "Manager, National Road Safety Partnership Program (NRSPP), the most common causes of road fatalities and car accidents occasioning\n",
    "serious harm are: fatigue, speed, distraction (including mobile phones), and alcohol or drugs. Statistics from the department\n",
    "of Infrastructure and Regional Development show that during 2015 there were 1205 road deaths across Australia.In 2016 that number    \n",
    "increased to 1300 lives lost, an increase of nearly 8% on the previous year.I have chosen this project because I want to know what \n",
    "are the main causes of accident between 1989 to 2021. I have  chosen this gap of year to resolve my curiousity.\n",
    "\n",
    "  \n",
    "\n"
   ]
  },
  {
   "cell_type": "markdown",
   "id": "0c68eca0",
   "metadata": {},
   "source": [
    "### Q.2 Provide information on this dataset."
   ]
  },
  {
   "cell_type": "markdown",
   "id": "c4999b19",
   "metadata": {},
   "source": [
    "This dataset contains different causes of death, different ages of people who have faced these kind of accidents and why they \n",
    "had this accident ,what is their mental condition.Along with this this dataset contains time and year at which most accidents occur. \n"
   ]
  },
  {
   "cell_type": "markdown",
   "id": "178bf057",
   "metadata": {},
   "source": [
    "##### It contains 52K rows and 23 columns."
   ]
  },
  {
   "cell_type": "markdown",
   "id": "44913f52",
   "metadata": {},
   "source": [
    "Dataset contains variables in the form of object like state, weekdays ,National Roadway etc and numerical variable like crash id\n",
    ", date etc"
   ]
  },
  {
   "cell_type": "markdown",
   "id": "fb351517",
   "metadata": {},
   "source": [
    "### Q.3 What is your Approach?"
   ]
  },
  {
   "cell_type": "markdown",
   "id": "aba3099b",
   "metadata": {},
   "source": [
    "- .Loading of the dataset.  \n",
    "- .Cleaning of the dataset.\n",
    "- .fill the missing value.\n",
    "- .Visualizing the data using different graphs.\n",
    "- .find out insights.\n",
    "- .perform univariate analysis.\n",
    "- .Perform Multivariate analysis.\n",
    "- .perform Bivariate analysis"
   ]
  },
  {
   "cell_type": "markdown",
   "id": "55f51481",
   "metadata": {},
   "source": [
    "### Import the important libraries"
   ]
  },
  {
   "cell_type": "code",
   "execution_count": 2,
   "id": "18691b31",
   "metadata": {},
   "outputs": [],
   "source": [
    "import numpy as np\n",
    "import pandas as pd\n",
    "import seaborn as sns\n",
    "import matplotlib.pyplot as plt\n"
   ]
  },
  {
   "cell_type": "markdown",
   "id": "63dbba5a",
   "metadata": {},
   "source": [
    "### Import the Dataset"
   ]
  },
  {
   "cell_type": "code",
   "execution_count": 3,
   "id": "f27f9d58",
   "metadata": {},
   "outputs": [
    {
     "name": "stderr",
     "output_type": "stream",
     "text": [
      "C:\\Users\\ritik\\AppData\\Local\\Temp\\ipykernel_17948\\2795590909.py:1: DtypeWarning: Columns (10,14,15,16,17) have mixed types. Specify dtype option on import or set low_memory=False.\n",
      "  Data = pd.read_csv(\"Crash_Data.csv\")\n"
     ]
    }
   ],
   "source": [
    "Data = pd.read_csv(\"Crash_Data.csv\")"
   ]
  },
  {
   "cell_type": "code",
   "execution_count": 4,
   "id": "9107000e",
   "metadata": {},
   "outputs": [
    {
     "data": {
      "text/html": [
       "<div>\n",
       "<style scoped>\n",
       "    .dataframe tbody tr th:only-of-type {\n",
       "        vertical-align: middle;\n",
       "    }\n",
       "\n",
       "    .dataframe tbody tr th {\n",
       "        vertical-align: top;\n",
       "    }\n",
       "\n",
       "    .dataframe thead th {\n",
       "        text-align: right;\n",
       "    }\n",
       "</style>\n",
       "<table border=\"1\" class=\"dataframe\">\n",
       "  <thead>\n",
       "    <tr style=\"text-align: right;\">\n",
       "      <th></th>\n",
       "      <th>Crash ID</th>\n",
       "      <th>State</th>\n",
       "      <th>Month</th>\n",
       "      <th>Year</th>\n",
       "      <th>Dayweek</th>\n",
       "      <th>Time</th>\n",
       "      <th>Crash Type</th>\n",
       "      <th>Bus Involvement</th>\n",
       "      <th>Heavy Rigid Truck Involvement</th>\n",
       "      <th>Articulated Truck Involvement</th>\n",
       "      <th>...</th>\n",
       "      <th>Age</th>\n",
       "      <th>National Remoteness Areas</th>\n",
       "      <th>SA4 Name 2016</th>\n",
       "      <th>National LGA Name 2017</th>\n",
       "      <th>National Road Type</th>\n",
       "      <th>Christmas Period</th>\n",
       "      <th>Easter Period</th>\n",
       "      <th>Age Group</th>\n",
       "      <th>Day of week</th>\n",
       "      <th>Time of day</th>\n",
       "    </tr>\n",
       "  </thead>\n",
       "  <tbody>\n",
       "    <tr>\n",
       "      <th>0</th>\n",
       "      <td>20212133</td>\n",
       "      <td>Vic</td>\n",
       "      <td>9</td>\n",
       "      <td>2021</td>\n",
       "      <td>Sunday</td>\n",
       "      <td>0:30</td>\n",
       "      <td>Single</td>\n",
       "      <td>NaN</td>\n",
       "      <td>NaN</td>\n",
       "      <td>NaN</td>\n",
       "      <td>...</td>\n",
       "      <td>38</td>\n",
       "      <td>Inner Regional Australia</td>\n",
       "      <td>Melbourne - Outer East</td>\n",
       "      <td>Yarra Ranges (S)</td>\n",
       "      <td>Arterial Road</td>\n",
       "      <td>No</td>\n",
       "      <td>No</td>\n",
       "      <td>26_to_39</td>\n",
       "      <td>Weekend</td>\n",
       "      <td>Night</td>\n",
       "    </tr>\n",
       "    <tr>\n",
       "      <th>1</th>\n",
       "      <td>20214022</td>\n",
       "      <td>SA</td>\n",
       "      <td>9</td>\n",
       "      <td>2021</td>\n",
       "      <td>Saturday</td>\n",
       "      <td>23:31</td>\n",
       "      <td>Multiple</td>\n",
       "      <td>No</td>\n",
       "      <td>No</td>\n",
       "      <td>No</td>\n",
       "      <td>...</td>\n",
       "      <td>28</td>\n",
       "      <td>Major Cities of Australia</td>\n",
       "      <td>Adelaide - North</td>\n",
       "      <td>Playford (C)</td>\n",
       "      <td>NaN</td>\n",
       "      <td>No</td>\n",
       "      <td>No</td>\n",
       "      <td>26_to_39</td>\n",
       "      <td>Weekend</td>\n",
       "      <td>Night</td>\n",
       "    </tr>\n",
       "    <tr>\n",
       "      <th>2</th>\n",
       "      <td>20212096</td>\n",
       "      <td>Vic</td>\n",
       "      <td>9</td>\n",
       "      <td>2021</td>\n",
       "      <td>Saturday</td>\n",
       "      <td>23:00</td>\n",
       "      <td>Single</td>\n",
       "      <td>NaN</td>\n",
       "      <td>NaN</td>\n",
       "      <td>NaN</td>\n",
       "      <td>...</td>\n",
       "      <td>19</td>\n",
       "      <td>Inner Regional Australia</td>\n",
       "      <td>Hume</td>\n",
       "      <td>Wangaratta (RC)</td>\n",
       "      <td>Access road</td>\n",
       "      <td>No</td>\n",
       "      <td>No</td>\n",
       "      <td>17_to_25</td>\n",
       "      <td>Weekend</td>\n",
       "      <td>Night</td>\n",
       "    </tr>\n",
       "    <tr>\n",
       "      <th>3</th>\n",
       "      <td>20212145</td>\n",
       "      <td>Vic</td>\n",
       "      <td>9</td>\n",
       "      <td>2021</td>\n",
       "      <td>Saturday</td>\n",
       "      <td>22:25</td>\n",
       "      <td>Single</td>\n",
       "      <td>NaN</td>\n",
       "      <td>NaN</td>\n",
       "      <td>NaN</td>\n",
       "      <td>...</td>\n",
       "      <td>23</td>\n",
       "      <td>Outer Regional Australia</td>\n",
       "      <td>Hume</td>\n",
       "      <td>Wangaratta (RC)</td>\n",
       "      <td>Arterial Road</td>\n",
       "      <td>No</td>\n",
       "      <td>No</td>\n",
       "      <td>17_to_25</td>\n",
       "      <td>Weekend</td>\n",
       "      <td>Night</td>\n",
       "    </tr>\n",
       "    <tr>\n",
       "      <th>4</th>\n",
       "      <td>20212075</td>\n",
       "      <td>Vic</td>\n",
       "      <td>9</td>\n",
       "      <td>2021</td>\n",
       "      <td>Saturday</td>\n",
       "      <td>5:15</td>\n",
       "      <td>Single</td>\n",
       "      <td>NaN</td>\n",
       "      <td>NaN</td>\n",
       "      <td>NaN</td>\n",
       "      <td>...</td>\n",
       "      <td>46</td>\n",
       "      <td>Major Cities of Australia</td>\n",
       "      <td>Melbourne - South East</td>\n",
       "      <td>Casey (C)</td>\n",
       "      <td>Local Road</td>\n",
       "      <td>No</td>\n",
       "      <td>No</td>\n",
       "      <td>40_to_64</td>\n",
       "      <td>Weekend</td>\n",
       "      <td>Night</td>\n",
       "    </tr>\n",
       "    <tr>\n",
       "      <th>...</th>\n",
       "      <td>...</td>\n",
       "      <td>...</td>\n",
       "      <td>...</td>\n",
       "      <td>...</td>\n",
       "      <td>...</td>\n",
       "      <td>...</td>\n",
       "      <td>...</td>\n",
       "      <td>...</td>\n",
       "      <td>...</td>\n",
       "      <td>...</td>\n",
       "      <td>...</td>\n",
       "      <td>...</td>\n",
       "      <td>...</td>\n",
       "      <td>...</td>\n",
       "      <td>...</td>\n",
       "      <td>...</td>\n",
       "      <td>...</td>\n",
       "      <td>...</td>\n",
       "      <td>...</td>\n",
       "      <td>...</td>\n",
       "      <td>...</td>\n",
       "    </tr>\n",
       "    <tr>\n",
       "      <th>52838</th>\n",
       "      <td>19891246</td>\n",
       "      <td>NSW</td>\n",
       "      <td>1</td>\n",
       "      <td>1989</td>\n",
       "      <td>Wednesday</td>\n",
       "      <td>17:05</td>\n",
       "      <td>Single</td>\n",
       "      <td>Yes</td>\n",
       "      <td>NaN</td>\n",
       "      <td>No</td>\n",
       "      <td>...</td>\n",
       "      <td>5</td>\n",
       "      <td>NaN</td>\n",
       "      <td>NaN</td>\n",
       "      <td>NaN</td>\n",
       "      <td>NaN</td>\n",
       "      <td>No</td>\n",
       "      <td>No</td>\n",
       "      <td>0_to_16</td>\n",
       "      <td>Weekday</td>\n",
       "      <td>Day</td>\n",
       "    </tr>\n",
       "    <tr>\n",
       "      <th>52839</th>\n",
       "      <td>19895088</td>\n",
       "      <td>WA</td>\n",
       "      <td>1</td>\n",
       "      <td>1989</td>\n",
       "      <td>Monday</td>\n",
       "      <td>6:00</td>\n",
       "      <td>Single</td>\n",
       "      <td>No</td>\n",
       "      <td>NaN</td>\n",
       "      <td>No</td>\n",
       "      <td>...</td>\n",
       "      <td>19</td>\n",
       "      <td>NaN</td>\n",
       "      <td>NaN</td>\n",
       "      <td>NaN</td>\n",
       "      <td>NaN</td>\n",
       "      <td>Yes</td>\n",
       "      <td>No</td>\n",
       "      <td>17_to_25</td>\n",
       "      <td>Weekday</td>\n",
       "      <td>Day</td>\n",
       "    </tr>\n",
       "    <tr>\n",
       "      <th>52840</th>\n",
       "      <td>19895088</td>\n",
       "      <td>WA</td>\n",
       "      <td>1</td>\n",
       "      <td>1989</td>\n",
       "      <td>Monday</td>\n",
       "      <td>6:00</td>\n",
       "      <td>Single</td>\n",
       "      <td>No</td>\n",
       "      <td>NaN</td>\n",
       "      <td>No</td>\n",
       "      <td>...</td>\n",
       "      <td>17</td>\n",
       "      <td>NaN</td>\n",
       "      <td>NaN</td>\n",
       "      <td>NaN</td>\n",
       "      <td>NaN</td>\n",
       "      <td>Yes</td>\n",
       "      <td>No</td>\n",
       "      <td>17_to_25</td>\n",
       "      <td>Weekday</td>\n",
       "      <td>Day</td>\n",
       "    </tr>\n",
       "    <tr>\n",
       "      <th>52841</th>\n",
       "      <td>19895088</td>\n",
       "      <td>WA</td>\n",
       "      <td>1</td>\n",
       "      <td>1989</td>\n",
       "      <td>Monday</td>\n",
       "      <td>6:00</td>\n",
       "      <td>Single</td>\n",
       "      <td>No</td>\n",
       "      <td>NaN</td>\n",
       "      <td>No</td>\n",
       "      <td>...</td>\n",
       "      <td>17</td>\n",
       "      <td>NaN</td>\n",
       "      <td>NaN</td>\n",
       "      <td>NaN</td>\n",
       "      <td>NaN</td>\n",
       "      <td>Yes</td>\n",
       "      <td>No</td>\n",
       "      <td>17_to_25</td>\n",
       "      <td>Weekday</td>\n",
       "      <td>Day</td>\n",
       "    </tr>\n",
       "    <tr>\n",
       "      <th>52842</th>\n",
       "      <td>19896063</td>\n",
       "      <td>Tas</td>\n",
       "      <td>1</td>\n",
       "      <td>1989</td>\n",
       "      <td>Tuesday</td>\n",
       "      <td>12:40</td>\n",
       "      <td>Multiple</td>\n",
       "      <td>No</td>\n",
       "      <td>NaN</td>\n",
       "      <td>No</td>\n",
       "      <td>...</td>\n",
       "      <td>63</td>\n",
       "      <td>NaN</td>\n",
       "      <td>NaN</td>\n",
       "      <td>NaN</td>\n",
       "      <td>NaN</td>\n",
       "      <td>No</td>\n",
       "      <td>No</td>\n",
       "      <td>40_to_64</td>\n",
       "      <td>Weekday</td>\n",
       "      <td>Day</td>\n",
       "    </tr>\n",
       "  </tbody>\n",
       "</table>\n",
       "<p>52843 rows × 23 columns</p>\n",
       "</div>"
      ],
      "text/plain": [
       "       Crash ID State  Month  Year    Dayweek   Time Crash Type  \\\n",
       "0      20212133   Vic      9  2021     Sunday   0:30     Single   \n",
       "1      20214022    SA      9  2021   Saturday  23:31   Multiple   \n",
       "2      20212096   Vic      9  2021   Saturday  23:00     Single   \n",
       "3      20212145   Vic      9  2021   Saturday  22:25     Single   \n",
       "4      20212075   Vic      9  2021   Saturday   5:15     Single   \n",
       "...         ...   ...    ...   ...        ...    ...        ...   \n",
       "52838  19891246   NSW      1  1989  Wednesday  17:05     Single   \n",
       "52839  19895088    WA      1  1989     Monday   6:00     Single   \n",
       "52840  19895088    WA      1  1989     Monday   6:00     Single   \n",
       "52841  19895088    WA      1  1989     Monday   6:00     Single   \n",
       "52842  19896063   Tas      1  1989    Tuesday  12:40   Multiple   \n",
       "\n",
       "      Bus Involvement Heavy Rigid Truck Involvement  \\\n",
       "0                 NaN                           NaN   \n",
       "1                  No                            No   \n",
       "2                 NaN                           NaN   \n",
       "3                 NaN                           NaN   \n",
       "4                 NaN                           NaN   \n",
       "...               ...                           ...   \n",
       "52838             Yes                           NaN   \n",
       "52839              No                           NaN   \n",
       "52840              No                           NaN   \n",
       "52841              No                           NaN   \n",
       "52842              No                           NaN   \n",
       "\n",
       "      Articulated Truck Involvement  ... Age  National Remoteness Areas  \\\n",
       "0                               NaN  ...  38   Inner Regional Australia   \n",
       "1                                No  ...  28  Major Cities of Australia   \n",
       "2                               NaN  ...  19   Inner Regional Australia   \n",
       "3                               NaN  ...  23   Outer Regional Australia   \n",
       "4                               NaN  ...  46  Major Cities of Australia   \n",
       "...                             ...  ...  ..                        ...   \n",
       "52838                            No  ...   5                        NaN   \n",
       "52839                            No  ...  19                        NaN   \n",
       "52840                            No  ...  17                        NaN   \n",
       "52841                            No  ...  17                        NaN   \n",
       "52842                            No  ...  63                        NaN   \n",
       "\n",
       "                SA4 Name 2016  National LGA Name 2017 National Road Type  \\\n",
       "0      Melbourne - Outer East        Yarra Ranges (S)      Arterial Road   \n",
       "1            Adelaide - North            Playford (C)                NaN   \n",
       "2                        Hume         Wangaratta (RC)        Access road   \n",
       "3                        Hume         Wangaratta (RC)      Arterial Road   \n",
       "4      Melbourne - South East               Casey (C)         Local Road   \n",
       "...                       ...                     ...                ...   \n",
       "52838                     NaN                     NaN                NaN   \n",
       "52839                     NaN                     NaN                NaN   \n",
       "52840                     NaN                     NaN                NaN   \n",
       "52841                     NaN                     NaN                NaN   \n",
       "52842                     NaN                     NaN                NaN   \n",
       "\n",
       "      Christmas Period Easter Period Age Group Day of week Time of day  \n",
       "0                   No            No  26_to_39     Weekend       Night  \n",
       "1                   No            No  26_to_39     Weekend       Night  \n",
       "2                   No            No  17_to_25     Weekend       Night  \n",
       "3                   No            No  17_to_25     Weekend       Night  \n",
       "4                   No            No  40_to_64     Weekend       Night  \n",
       "...                ...           ...       ...         ...         ...  \n",
       "52838               No            No   0_to_16     Weekday         Day  \n",
       "52839              Yes            No  17_to_25     Weekday         Day  \n",
       "52840              Yes            No  17_to_25     Weekday         Day  \n",
       "52841              Yes            No  17_to_25     Weekday         Day  \n",
       "52842               No            No  40_to_64     Weekday         Day  \n",
       "\n",
       "[52843 rows x 23 columns]"
      ]
     },
     "execution_count": 4,
     "metadata": {},
     "output_type": "execute_result"
    }
   ],
   "source": [
    "Data"
   ]
  },
  {
   "cell_type": "markdown",
   "id": "e967e5ce",
   "metadata": {},
   "source": [
    "### Show the first five data from Dataset."
   ]
  },
  {
   "cell_type": "code",
   "execution_count": 5,
   "id": "7e6c0b75",
   "metadata": {},
   "outputs": [
    {
     "data": {
      "text/html": [
       "<div>\n",
       "<style scoped>\n",
       "    .dataframe tbody tr th:only-of-type {\n",
       "        vertical-align: middle;\n",
       "    }\n",
       "\n",
       "    .dataframe tbody tr th {\n",
       "        vertical-align: top;\n",
       "    }\n",
       "\n",
       "    .dataframe thead th {\n",
       "        text-align: right;\n",
       "    }\n",
       "</style>\n",
       "<table border=\"1\" class=\"dataframe\">\n",
       "  <thead>\n",
       "    <tr style=\"text-align: right;\">\n",
       "      <th></th>\n",
       "      <th>Crash ID</th>\n",
       "      <th>State</th>\n",
       "      <th>Month</th>\n",
       "      <th>Year</th>\n",
       "      <th>Dayweek</th>\n",
       "      <th>Time</th>\n",
       "      <th>Crash Type</th>\n",
       "      <th>Bus Involvement</th>\n",
       "      <th>Heavy Rigid Truck Involvement</th>\n",
       "      <th>Articulated Truck Involvement</th>\n",
       "      <th>...</th>\n",
       "      <th>Age</th>\n",
       "      <th>National Remoteness Areas</th>\n",
       "      <th>SA4 Name 2016</th>\n",
       "      <th>National LGA Name 2017</th>\n",
       "      <th>National Road Type</th>\n",
       "      <th>Christmas Period</th>\n",
       "      <th>Easter Period</th>\n",
       "      <th>Age Group</th>\n",
       "      <th>Day of week</th>\n",
       "      <th>Time of day</th>\n",
       "    </tr>\n",
       "  </thead>\n",
       "  <tbody>\n",
       "    <tr>\n",
       "      <th>0</th>\n",
       "      <td>20212133</td>\n",
       "      <td>Vic</td>\n",
       "      <td>9</td>\n",
       "      <td>2021</td>\n",
       "      <td>Sunday</td>\n",
       "      <td>0:30</td>\n",
       "      <td>Single</td>\n",
       "      <td>NaN</td>\n",
       "      <td>NaN</td>\n",
       "      <td>NaN</td>\n",
       "      <td>...</td>\n",
       "      <td>38</td>\n",
       "      <td>Inner Regional Australia</td>\n",
       "      <td>Melbourne - Outer East</td>\n",
       "      <td>Yarra Ranges (S)</td>\n",
       "      <td>Arterial Road</td>\n",
       "      <td>No</td>\n",
       "      <td>No</td>\n",
       "      <td>26_to_39</td>\n",
       "      <td>Weekend</td>\n",
       "      <td>Night</td>\n",
       "    </tr>\n",
       "    <tr>\n",
       "      <th>1</th>\n",
       "      <td>20214022</td>\n",
       "      <td>SA</td>\n",
       "      <td>9</td>\n",
       "      <td>2021</td>\n",
       "      <td>Saturday</td>\n",
       "      <td>23:31</td>\n",
       "      <td>Multiple</td>\n",
       "      <td>No</td>\n",
       "      <td>No</td>\n",
       "      <td>No</td>\n",
       "      <td>...</td>\n",
       "      <td>28</td>\n",
       "      <td>Major Cities of Australia</td>\n",
       "      <td>Adelaide - North</td>\n",
       "      <td>Playford (C)</td>\n",
       "      <td>NaN</td>\n",
       "      <td>No</td>\n",
       "      <td>No</td>\n",
       "      <td>26_to_39</td>\n",
       "      <td>Weekend</td>\n",
       "      <td>Night</td>\n",
       "    </tr>\n",
       "    <tr>\n",
       "      <th>2</th>\n",
       "      <td>20212096</td>\n",
       "      <td>Vic</td>\n",
       "      <td>9</td>\n",
       "      <td>2021</td>\n",
       "      <td>Saturday</td>\n",
       "      <td>23:00</td>\n",
       "      <td>Single</td>\n",
       "      <td>NaN</td>\n",
       "      <td>NaN</td>\n",
       "      <td>NaN</td>\n",
       "      <td>...</td>\n",
       "      <td>19</td>\n",
       "      <td>Inner Regional Australia</td>\n",
       "      <td>Hume</td>\n",
       "      <td>Wangaratta (RC)</td>\n",
       "      <td>Access road</td>\n",
       "      <td>No</td>\n",
       "      <td>No</td>\n",
       "      <td>17_to_25</td>\n",
       "      <td>Weekend</td>\n",
       "      <td>Night</td>\n",
       "    </tr>\n",
       "    <tr>\n",
       "      <th>3</th>\n",
       "      <td>20212145</td>\n",
       "      <td>Vic</td>\n",
       "      <td>9</td>\n",
       "      <td>2021</td>\n",
       "      <td>Saturday</td>\n",
       "      <td>22:25</td>\n",
       "      <td>Single</td>\n",
       "      <td>NaN</td>\n",
       "      <td>NaN</td>\n",
       "      <td>NaN</td>\n",
       "      <td>...</td>\n",
       "      <td>23</td>\n",
       "      <td>Outer Regional Australia</td>\n",
       "      <td>Hume</td>\n",
       "      <td>Wangaratta (RC)</td>\n",
       "      <td>Arterial Road</td>\n",
       "      <td>No</td>\n",
       "      <td>No</td>\n",
       "      <td>17_to_25</td>\n",
       "      <td>Weekend</td>\n",
       "      <td>Night</td>\n",
       "    </tr>\n",
       "    <tr>\n",
       "      <th>4</th>\n",
       "      <td>20212075</td>\n",
       "      <td>Vic</td>\n",
       "      <td>9</td>\n",
       "      <td>2021</td>\n",
       "      <td>Saturday</td>\n",
       "      <td>5:15</td>\n",
       "      <td>Single</td>\n",
       "      <td>NaN</td>\n",
       "      <td>NaN</td>\n",
       "      <td>NaN</td>\n",
       "      <td>...</td>\n",
       "      <td>46</td>\n",
       "      <td>Major Cities of Australia</td>\n",
       "      <td>Melbourne - South East</td>\n",
       "      <td>Casey (C)</td>\n",
       "      <td>Local Road</td>\n",
       "      <td>No</td>\n",
       "      <td>No</td>\n",
       "      <td>40_to_64</td>\n",
       "      <td>Weekend</td>\n",
       "      <td>Night</td>\n",
       "    </tr>\n",
       "  </tbody>\n",
       "</table>\n",
       "<p>5 rows × 23 columns</p>\n",
       "</div>"
      ],
      "text/plain": [
       "   Crash ID State  Month  Year   Dayweek   Time Crash Type Bus Involvement  \\\n",
       "0  20212133   Vic      9  2021    Sunday   0:30     Single             NaN   \n",
       "1  20214022    SA      9  2021  Saturday  23:31   Multiple              No   \n",
       "2  20212096   Vic      9  2021  Saturday  23:00     Single             NaN   \n",
       "3  20212145   Vic      9  2021  Saturday  22:25     Single             NaN   \n",
       "4  20212075   Vic      9  2021  Saturday   5:15     Single             NaN   \n",
       "\n",
       "  Heavy Rigid Truck Involvement Articulated Truck Involvement  ... Age  \\\n",
       "0                           NaN                           NaN  ...  38   \n",
       "1                            No                            No  ...  28   \n",
       "2                           NaN                           NaN  ...  19   \n",
       "3                           NaN                           NaN  ...  23   \n",
       "4                           NaN                           NaN  ...  46   \n",
       "\n",
       "   National Remoteness Areas           SA4 Name 2016  National LGA Name 2017  \\\n",
       "0   Inner Regional Australia  Melbourne - Outer East        Yarra Ranges (S)   \n",
       "1  Major Cities of Australia        Adelaide - North            Playford (C)   \n",
       "2   Inner Regional Australia                    Hume         Wangaratta (RC)   \n",
       "3   Outer Regional Australia                    Hume         Wangaratta (RC)   \n",
       "4  Major Cities of Australia  Melbourne - South East               Casey (C)   \n",
       "\n",
       "  National Road Type Christmas Period Easter Period Age Group Day of week  \\\n",
       "0      Arterial Road               No            No  26_to_39     Weekend   \n",
       "1                NaN               No            No  26_to_39     Weekend   \n",
       "2        Access road               No            No  17_to_25     Weekend   \n",
       "3      Arterial Road               No            No  17_to_25     Weekend   \n",
       "4         Local Road               No            No  40_to_64     Weekend   \n",
       "\n",
       "  Time of day  \n",
       "0       Night  \n",
       "1       Night  \n",
       "2       Night  \n",
       "3       Night  \n",
       "4       Night  \n",
       "\n",
       "[5 rows x 23 columns]"
      ]
     },
     "execution_count": 5,
     "metadata": {},
     "output_type": "execute_result"
    }
   ],
   "source": [
    "Data.head()"
   ]
  },
  {
   "cell_type": "markdown",
   "id": "ed02b541",
   "metadata": {},
   "source": [
    "### Show the last five data from the Dataset."
   ]
  },
  {
   "cell_type": "code",
   "execution_count": 6,
   "id": "632fd3ac",
   "metadata": {},
   "outputs": [
    {
     "data": {
      "text/html": [
       "<div>\n",
       "<style scoped>\n",
       "    .dataframe tbody tr th:only-of-type {\n",
       "        vertical-align: middle;\n",
       "    }\n",
       "\n",
       "    .dataframe tbody tr th {\n",
       "        vertical-align: top;\n",
       "    }\n",
       "\n",
       "    .dataframe thead th {\n",
       "        text-align: right;\n",
       "    }\n",
       "</style>\n",
       "<table border=\"1\" class=\"dataframe\">\n",
       "  <thead>\n",
       "    <tr style=\"text-align: right;\">\n",
       "      <th></th>\n",
       "      <th>Crash ID</th>\n",
       "      <th>State</th>\n",
       "      <th>Month</th>\n",
       "      <th>Year</th>\n",
       "      <th>Dayweek</th>\n",
       "      <th>Time</th>\n",
       "      <th>Crash Type</th>\n",
       "      <th>Bus Involvement</th>\n",
       "      <th>Heavy Rigid Truck Involvement</th>\n",
       "      <th>Articulated Truck Involvement</th>\n",
       "      <th>...</th>\n",
       "      <th>Age</th>\n",
       "      <th>National Remoteness Areas</th>\n",
       "      <th>SA4 Name 2016</th>\n",
       "      <th>National LGA Name 2017</th>\n",
       "      <th>National Road Type</th>\n",
       "      <th>Christmas Period</th>\n",
       "      <th>Easter Period</th>\n",
       "      <th>Age Group</th>\n",
       "      <th>Day of week</th>\n",
       "      <th>Time of day</th>\n",
       "    </tr>\n",
       "  </thead>\n",
       "  <tbody>\n",
       "    <tr>\n",
       "      <th>52838</th>\n",
       "      <td>19891246</td>\n",
       "      <td>NSW</td>\n",
       "      <td>1</td>\n",
       "      <td>1989</td>\n",
       "      <td>Wednesday</td>\n",
       "      <td>17:05</td>\n",
       "      <td>Single</td>\n",
       "      <td>Yes</td>\n",
       "      <td>NaN</td>\n",
       "      <td>No</td>\n",
       "      <td>...</td>\n",
       "      <td>5</td>\n",
       "      <td>NaN</td>\n",
       "      <td>NaN</td>\n",
       "      <td>NaN</td>\n",
       "      <td>NaN</td>\n",
       "      <td>No</td>\n",
       "      <td>No</td>\n",
       "      <td>0_to_16</td>\n",
       "      <td>Weekday</td>\n",
       "      <td>Day</td>\n",
       "    </tr>\n",
       "    <tr>\n",
       "      <th>52839</th>\n",
       "      <td>19895088</td>\n",
       "      <td>WA</td>\n",
       "      <td>1</td>\n",
       "      <td>1989</td>\n",
       "      <td>Monday</td>\n",
       "      <td>6:00</td>\n",
       "      <td>Single</td>\n",
       "      <td>No</td>\n",
       "      <td>NaN</td>\n",
       "      <td>No</td>\n",
       "      <td>...</td>\n",
       "      <td>19</td>\n",
       "      <td>NaN</td>\n",
       "      <td>NaN</td>\n",
       "      <td>NaN</td>\n",
       "      <td>NaN</td>\n",
       "      <td>Yes</td>\n",
       "      <td>No</td>\n",
       "      <td>17_to_25</td>\n",
       "      <td>Weekday</td>\n",
       "      <td>Day</td>\n",
       "    </tr>\n",
       "    <tr>\n",
       "      <th>52840</th>\n",
       "      <td>19895088</td>\n",
       "      <td>WA</td>\n",
       "      <td>1</td>\n",
       "      <td>1989</td>\n",
       "      <td>Monday</td>\n",
       "      <td>6:00</td>\n",
       "      <td>Single</td>\n",
       "      <td>No</td>\n",
       "      <td>NaN</td>\n",
       "      <td>No</td>\n",
       "      <td>...</td>\n",
       "      <td>17</td>\n",
       "      <td>NaN</td>\n",
       "      <td>NaN</td>\n",
       "      <td>NaN</td>\n",
       "      <td>NaN</td>\n",
       "      <td>Yes</td>\n",
       "      <td>No</td>\n",
       "      <td>17_to_25</td>\n",
       "      <td>Weekday</td>\n",
       "      <td>Day</td>\n",
       "    </tr>\n",
       "    <tr>\n",
       "      <th>52841</th>\n",
       "      <td>19895088</td>\n",
       "      <td>WA</td>\n",
       "      <td>1</td>\n",
       "      <td>1989</td>\n",
       "      <td>Monday</td>\n",
       "      <td>6:00</td>\n",
       "      <td>Single</td>\n",
       "      <td>No</td>\n",
       "      <td>NaN</td>\n",
       "      <td>No</td>\n",
       "      <td>...</td>\n",
       "      <td>17</td>\n",
       "      <td>NaN</td>\n",
       "      <td>NaN</td>\n",
       "      <td>NaN</td>\n",
       "      <td>NaN</td>\n",
       "      <td>Yes</td>\n",
       "      <td>No</td>\n",
       "      <td>17_to_25</td>\n",
       "      <td>Weekday</td>\n",
       "      <td>Day</td>\n",
       "    </tr>\n",
       "    <tr>\n",
       "      <th>52842</th>\n",
       "      <td>19896063</td>\n",
       "      <td>Tas</td>\n",
       "      <td>1</td>\n",
       "      <td>1989</td>\n",
       "      <td>Tuesday</td>\n",
       "      <td>12:40</td>\n",
       "      <td>Multiple</td>\n",
       "      <td>No</td>\n",
       "      <td>NaN</td>\n",
       "      <td>No</td>\n",
       "      <td>...</td>\n",
       "      <td>63</td>\n",
       "      <td>NaN</td>\n",
       "      <td>NaN</td>\n",
       "      <td>NaN</td>\n",
       "      <td>NaN</td>\n",
       "      <td>No</td>\n",
       "      <td>No</td>\n",
       "      <td>40_to_64</td>\n",
       "      <td>Weekday</td>\n",
       "      <td>Day</td>\n",
       "    </tr>\n",
       "  </tbody>\n",
       "</table>\n",
       "<p>5 rows × 23 columns</p>\n",
       "</div>"
      ],
      "text/plain": [
       "       Crash ID State  Month  Year    Dayweek   Time Crash Type  \\\n",
       "52838  19891246   NSW      1  1989  Wednesday  17:05     Single   \n",
       "52839  19895088    WA      1  1989     Monday   6:00     Single   \n",
       "52840  19895088    WA      1  1989     Monday   6:00     Single   \n",
       "52841  19895088    WA      1  1989     Monday   6:00     Single   \n",
       "52842  19896063   Tas      1  1989    Tuesday  12:40   Multiple   \n",
       "\n",
       "      Bus Involvement Heavy Rigid Truck Involvement  \\\n",
       "52838             Yes                           NaN   \n",
       "52839              No                           NaN   \n",
       "52840              No                           NaN   \n",
       "52841              No                           NaN   \n",
       "52842              No                           NaN   \n",
       "\n",
       "      Articulated Truck Involvement  ... Age National Remoteness Areas  \\\n",
       "52838                            No  ...   5                       NaN   \n",
       "52839                            No  ...  19                       NaN   \n",
       "52840                            No  ...  17                       NaN   \n",
       "52841                            No  ...  17                       NaN   \n",
       "52842                            No  ...  63                       NaN   \n",
       "\n",
       "      SA4 Name 2016  National LGA Name 2017 National Road Type  \\\n",
       "52838           NaN                     NaN                NaN   \n",
       "52839           NaN                     NaN                NaN   \n",
       "52840           NaN                     NaN                NaN   \n",
       "52841           NaN                     NaN                NaN   \n",
       "52842           NaN                     NaN                NaN   \n",
       "\n",
       "      Christmas Period Easter Period Age Group Day of week Time of day  \n",
       "52838               No            No   0_to_16     Weekday         Day  \n",
       "52839              Yes            No  17_to_25     Weekday         Day  \n",
       "52840              Yes            No  17_to_25     Weekday         Day  \n",
       "52841              Yes            No  17_to_25     Weekday         Day  \n",
       "52842               No            No  40_to_64     Weekday         Day  \n",
       "\n",
       "[5 rows x 23 columns]"
      ]
     },
     "execution_count": 6,
     "metadata": {},
     "output_type": "execute_result"
    }
   ],
   "source": [
    "Data.tail()"
   ]
  },
  {
   "cell_type": "markdown",
   "id": "5ef2e4fc",
   "metadata": {},
   "source": [
    "### Describe the count,mean,median of the Data."
   ]
  },
  {
   "cell_type": "code",
   "execution_count": 7,
   "id": "a6690c2f",
   "metadata": {},
   "outputs": [
    {
     "data": {
      "text/html": [
       "<div>\n",
       "<style scoped>\n",
       "    .dataframe tbody tr th:only-of-type {\n",
       "        vertical-align: middle;\n",
       "    }\n",
       "\n",
       "    .dataframe tbody tr th {\n",
       "        vertical-align: top;\n",
       "    }\n",
       "\n",
       "    .dataframe thead th {\n",
       "        text-align: right;\n",
       "    }\n",
       "</style>\n",
       "<table border=\"1\" class=\"dataframe\">\n",
       "  <thead>\n",
       "    <tr style=\"text-align: right;\">\n",
       "      <th></th>\n",
       "      <th>Crash ID</th>\n",
       "      <th>Month</th>\n",
       "      <th>Year</th>\n",
       "      <th>Age</th>\n",
       "    </tr>\n",
       "  </thead>\n",
       "  <tbody>\n",
       "    <tr>\n",
       "      <th>count</th>\n",
       "      <td>5.284300e+04</td>\n",
       "      <td>52843.000000</td>\n",
       "      <td>52843.000000</td>\n",
       "      <td>52843.000000</td>\n",
       "    </tr>\n",
       "    <tr>\n",
       "      <th>mean</th>\n",
       "      <td>2.003021e+07</td>\n",
       "      <td>6.568685</td>\n",
       "      <td>2002.729974</td>\n",
       "      <td>39.662377</td>\n",
       "    </tr>\n",
       "    <tr>\n",
       "      <th>std</th>\n",
       "      <td>9.383542e+04</td>\n",
       "      <td>3.457347</td>\n",
       "      <td>9.378570</td>\n",
       "      <td>21.806198</td>\n",
       "    </tr>\n",
       "    <tr>\n",
       "      <th>min</th>\n",
       "      <td>1.989100e+07</td>\n",
       "      <td>1.000000</td>\n",
       "      <td>1989.000000</td>\n",
       "      <td>-9.000000</td>\n",
       "    </tr>\n",
       "    <tr>\n",
       "      <th>25%</th>\n",
       "      <td>1.995111e+07</td>\n",
       "      <td>4.000000</td>\n",
       "      <td>1995.000000</td>\n",
       "      <td>22.000000</td>\n",
       "    </tr>\n",
       "    <tr>\n",
       "      <th>50%</th>\n",
       "      <td>2.002144e+07</td>\n",
       "      <td>7.000000</td>\n",
       "      <td>2002.000000</td>\n",
       "      <td>34.000000</td>\n",
       "    </tr>\n",
       "    <tr>\n",
       "      <th>75%</th>\n",
       "      <td>2.010408e+07</td>\n",
       "      <td>10.000000</td>\n",
       "      <td>2010.000000</td>\n",
       "      <td>55.000000</td>\n",
       "    </tr>\n",
       "    <tr>\n",
       "      <th>max</th>\n",
       "      <td>2.021801e+07</td>\n",
       "      <td>12.000000</td>\n",
       "      <td>2021.000000</td>\n",
       "      <td>101.000000</td>\n",
       "    </tr>\n",
       "  </tbody>\n",
       "</table>\n",
       "</div>"
      ],
      "text/plain": [
       "           Crash ID         Month          Year           Age\n",
       "count  5.284300e+04  52843.000000  52843.000000  52843.000000\n",
       "mean   2.003021e+07      6.568685   2002.729974     39.662377\n",
       "std    9.383542e+04      3.457347      9.378570     21.806198\n",
       "min    1.989100e+07      1.000000   1989.000000     -9.000000\n",
       "25%    1.995111e+07      4.000000   1995.000000     22.000000\n",
       "50%    2.002144e+07      7.000000   2002.000000     34.000000\n",
       "75%    2.010408e+07     10.000000   2010.000000     55.000000\n",
       "max    2.021801e+07     12.000000   2021.000000    101.000000"
      ]
     },
     "execution_count": 7,
     "metadata": {},
     "output_type": "execute_result"
    }
   ],
   "source": [
    "Data.describe()"
   ]
  },
  {
   "cell_type": "markdown",
   "id": "8258ab9c",
   "metadata": {},
   "source": [
    "### Show the total number of rows and columns in the Dataset."
   ]
  },
  {
   "cell_type": "code",
   "execution_count": 8,
   "id": "db3df543",
   "metadata": {},
   "outputs": [
    {
     "data": {
      "text/plain": [
       "(52843, 23)"
      ]
     },
     "execution_count": 8,
     "metadata": {},
     "output_type": "execute_result"
    }
   ],
   "source": [
    "Data.shape"
   ]
  },
  {
   "cell_type": "markdown",
   "id": "b4a837bd",
   "metadata": {},
   "source": [
    "### Show the Type of data as object or numerical in Dataset."
   ]
  },
  {
   "cell_type": "code",
   "execution_count": 9,
   "id": "911163fc",
   "metadata": {},
   "outputs": [
    {
     "name": "stdout",
     "output_type": "stream",
     "text": [
      "<class 'pandas.core.frame.DataFrame'>\n",
      "RangeIndex: 52843 entries, 0 to 52842\n",
      "Data columns (total 23 columns):\n",
      " #   Column                         Non-Null Count  Dtype \n",
      "---  ------                         --------------  ----- \n",
      " 0   Crash ID                       52843 non-null  int64 \n",
      " 1   State                          52843 non-null  object\n",
      " 2   Month                          52843 non-null  int64 \n",
      " 3   Year                           52843 non-null  int64 \n",
      " 4   Dayweek                        52843 non-null  object\n",
      " 5   Time                           52803 non-null  object\n",
      " 6   Crash Type                     52843 non-null  object\n",
      " 7   Bus Involvement                52821 non-null  object\n",
      " 8   Heavy Rigid Truck Involvement  32328 non-null  object\n",
      " 9   Articulated Truck Involvement  52821 non-null  object\n",
      " 10  Speed Limit                    52141 non-null  object\n",
      " 11  Road User                      52843 non-null  object\n",
      " 12  Gender                         52816 non-null  object\n",
      " 13  Age                            52843 non-null  int64 \n",
      " 14  National Remoteness Areas      6878 non-null   object\n",
      " 15  SA4 Name 2016                  6892 non-null   object\n",
      " 16  National LGA Name 2017         6893 non-null   object\n",
      " 17  National Road Type             6877 non-null   object\n",
      " 18  Christmas Period               52843 non-null  object\n",
      " 19  Easter Period                  52843 non-null  object\n",
      " 20  Age Group                      52753 non-null  object\n",
      " 21  Day of week                    52843 non-null  object\n",
      " 22  Time of day                    52843 non-null  object\n",
      "dtypes: int64(4), object(19)\n",
      "memory usage: 9.3+ MB\n"
     ]
    }
   ],
   "source": [
    "Data.info()"
   ]
  },
  {
   "cell_type": "markdown",
   "id": "cd5234df",
   "metadata": {},
   "source": [
    "### Check out the null values or missing values in Data."
   ]
  },
  {
   "cell_type": "code",
   "execution_count": 10,
   "id": "c9ea2f1e",
   "metadata": {},
   "outputs": [
    {
     "data": {
      "text/plain": [
       "Crash ID                             0\n",
       "State                                0\n",
       "Month                                0\n",
       "Year                                 0\n",
       "Dayweek                              0\n",
       "Time                                40\n",
       "Crash Type                           0\n",
       "Bus Involvement                     22\n",
       "Heavy Rigid Truck Involvement    20515\n",
       "Articulated Truck Involvement       22\n",
       "Speed Limit                        702\n",
       "Road User                            0\n",
       "Gender                              27\n",
       "Age                                  0\n",
       "National Remoteness Areas        45965\n",
       "SA4 Name 2016                    45951\n",
       "National LGA Name 2017           45950\n",
       "National Road Type               45966\n",
       "Christmas Period                     0\n",
       "Easter Period                        0\n",
       "Age Group                           90\n",
       "Day of week                          0\n",
       "Time of day                          0\n",
       "dtype: int64"
      ]
     },
     "execution_count": 10,
     "metadata": {},
     "output_type": "execute_result"
    }
   ],
   "source": [
    "Data.isnull().sum()"
   ]
  },
  {
   "cell_type": "code",
   "execution_count": 11,
   "id": "48a25a26",
   "metadata": {},
   "outputs": [],
   "source": [
    "df= Data.copy()"
   ]
  },
  {
   "cell_type": "code",
   "execution_count": 12,
   "id": "83de6c9f",
   "metadata": {},
   "outputs": [],
   "source": [
    "columns_to_be_removed = [\"National Remoteness Areas\",\"SA4 Name 2016\",\"National LGA Name 2017\",\"National Road Type\",\"Heavy Rigid Truck Involvement\"]\n",
    "for col in columns_to_be_removed:\n",
    "    df.drop([col], axis=1, inplace=True)"
   ]
  },
  {
   "cell_type": "code",
   "execution_count": 13,
   "id": "e90ee083",
   "metadata": {},
   "outputs": [
    {
     "data": {
      "text/html": [
       "<div>\n",
       "<style scoped>\n",
       "    .dataframe tbody tr th:only-of-type {\n",
       "        vertical-align: middle;\n",
       "    }\n",
       "\n",
       "    .dataframe tbody tr th {\n",
       "        vertical-align: top;\n",
       "    }\n",
       "\n",
       "    .dataframe thead th {\n",
       "        text-align: right;\n",
       "    }\n",
       "</style>\n",
       "<table border=\"1\" class=\"dataframe\">\n",
       "  <thead>\n",
       "    <tr style=\"text-align: right;\">\n",
       "      <th></th>\n",
       "      <th>Crash ID</th>\n",
       "      <th>State</th>\n",
       "      <th>Month</th>\n",
       "      <th>Year</th>\n",
       "      <th>Dayweek</th>\n",
       "      <th>Time</th>\n",
       "      <th>Crash Type</th>\n",
       "      <th>Bus Involvement</th>\n",
       "      <th>Articulated Truck Involvement</th>\n",
       "      <th>Speed Limit</th>\n",
       "      <th>Road User</th>\n",
       "      <th>Gender</th>\n",
       "      <th>Age</th>\n",
       "      <th>Christmas Period</th>\n",
       "      <th>Easter Period</th>\n",
       "      <th>Age Group</th>\n",
       "      <th>Day of week</th>\n",
       "      <th>Time of day</th>\n",
       "    </tr>\n",
       "  </thead>\n",
       "  <tbody>\n",
       "    <tr>\n",
       "      <th>0</th>\n",
       "      <td>20212133</td>\n",
       "      <td>Vic</td>\n",
       "      <td>9</td>\n",
       "      <td>2021</td>\n",
       "      <td>Sunday</td>\n",
       "      <td>0:30</td>\n",
       "      <td>Single</td>\n",
       "      <td>NaN</td>\n",
       "      <td>NaN</td>\n",
       "      <td>NaN</td>\n",
       "      <td>Motorcycle rider</td>\n",
       "      <td>Male</td>\n",
       "      <td>38</td>\n",
       "      <td>No</td>\n",
       "      <td>No</td>\n",
       "      <td>26_to_39</td>\n",
       "      <td>Weekend</td>\n",
       "      <td>Night</td>\n",
       "    </tr>\n",
       "    <tr>\n",
       "      <th>1</th>\n",
       "      <td>20214022</td>\n",
       "      <td>SA</td>\n",
       "      <td>9</td>\n",
       "      <td>2021</td>\n",
       "      <td>Saturday</td>\n",
       "      <td>23:31</td>\n",
       "      <td>Multiple</td>\n",
       "      <td>No</td>\n",
       "      <td>No</td>\n",
       "      <td>110</td>\n",
       "      <td>Pedestrian</td>\n",
       "      <td>Female</td>\n",
       "      <td>28</td>\n",
       "      <td>No</td>\n",
       "      <td>No</td>\n",
       "      <td>26_to_39</td>\n",
       "      <td>Weekend</td>\n",
       "      <td>Night</td>\n",
       "    </tr>\n",
       "    <tr>\n",
       "      <th>2</th>\n",
       "      <td>20212096</td>\n",
       "      <td>Vic</td>\n",
       "      <td>9</td>\n",
       "      <td>2021</td>\n",
       "      <td>Saturday</td>\n",
       "      <td>23:00</td>\n",
       "      <td>Single</td>\n",
       "      <td>NaN</td>\n",
       "      <td>NaN</td>\n",
       "      <td>NaN</td>\n",
       "      <td>Passenger</td>\n",
       "      <td>Male</td>\n",
       "      <td>19</td>\n",
       "      <td>No</td>\n",
       "      <td>No</td>\n",
       "      <td>17_to_25</td>\n",
       "      <td>Weekend</td>\n",
       "      <td>Night</td>\n",
       "    </tr>\n",
       "    <tr>\n",
       "      <th>3</th>\n",
       "      <td>20212145</td>\n",
       "      <td>Vic</td>\n",
       "      <td>9</td>\n",
       "      <td>2021</td>\n",
       "      <td>Saturday</td>\n",
       "      <td>22:25</td>\n",
       "      <td>Single</td>\n",
       "      <td>NaN</td>\n",
       "      <td>NaN</td>\n",
       "      <td>NaN</td>\n",
       "      <td>Driver</td>\n",
       "      <td>Male</td>\n",
       "      <td>23</td>\n",
       "      <td>No</td>\n",
       "      <td>No</td>\n",
       "      <td>17_to_25</td>\n",
       "      <td>Weekend</td>\n",
       "      <td>Night</td>\n",
       "    </tr>\n",
       "    <tr>\n",
       "      <th>4</th>\n",
       "      <td>20212075</td>\n",
       "      <td>Vic</td>\n",
       "      <td>9</td>\n",
       "      <td>2021</td>\n",
       "      <td>Saturday</td>\n",
       "      <td>5:15</td>\n",
       "      <td>Single</td>\n",
       "      <td>NaN</td>\n",
       "      <td>NaN</td>\n",
       "      <td>NaN</td>\n",
       "      <td>Motorcycle rider</td>\n",
       "      <td>Male</td>\n",
       "      <td>46</td>\n",
       "      <td>No</td>\n",
       "      <td>No</td>\n",
       "      <td>40_to_64</td>\n",
       "      <td>Weekend</td>\n",
       "      <td>Night</td>\n",
       "    </tr>\n",
       "  </tbody>\n",
       "</table>\n",
       "</div>"
      ],
      "text/plain": [
       "   Crash ID State  Month  Year   Dayweek   Time Crash Type Bus Involvement  \\\n",
       "0  20212133   Vic      9  2021    Sunday   0:30     Single             NaN   \n",
       "1  20214022    SA      9  2021  Saturday  23:31   Multiple              No   \n",
       "2  20212096   Vic      9  2021  Saturday  23:00     Single             NaN   \n",
       "3  20212145   Vic      9  2021  Saturday  22:25     Single             NaN   \n",
       "4  20212075   Vic      9  2021  Saturday   5:15     Single             NaN   \n",
       "\n",
       "  Articulated Truck Involvement Speed Limit         Road User  Gender  Age  \\\n",
       "0                           NaN         NaN  Motorcycle rider    Male   38   \n",
       "1                            No         110        Pedestrian  Female   28   \n",
       "2                           NaN         NaN         Passenger    Male   19   \n",
       "3                           NaN         NaN            Driver    Male   23   \n",
       "4                           NaN         NaN  Motorcycle rider    Male   46   \n",
       "\n",
       "  Christmas Period Easter Period Age Group Day of week Time of day  \n",
       "0               No            No  26_to_39     Weekend       Night  \n",
       "1               No            No  26_to_39     Weekend       Night  \n",
       "2               No            No  17_to_25     Weekend       Night  \n",
       "3               No            No  17_to_25     Weekend       Night  \n",
       "4               No            No  40_to_64     Weekend       Night  "
      ]
     },
     "execution_count": 13,
     "metadata": {},
     "output_type": "execute_result"
    }
   ],
   "source": [
    "df.head()"
   ]
  },
  {
   "cell_type": "code",
   "execution_count": 14,
   "id": "27e1be65",
   "metadata": {
    "scrolled": true
   },
   "outputs": [
    {
     "data": {
      "text/plain": [
       "Crash ID                           0\n",
       "State                              0\n",
       "Month                              0\n",
       "Year                               0\n",
       "Dayweek                            0\n",
       "Time                              40\n",
       "Crash Type                         0\n",
       "Bus Involvement                   22\n",
       "Articulated Truck Involvement     22\n",
       "Speed Limit                      702\n",
       "Road User                          0\n",
       "Gender                            27\n",
       "Age                                0\n",
       "Christmas Period                   0\n",
       "Easter Period                      0\n",
       "Age Group                         90\n",
       "Day of week                        0\n",
       "Time of day                        0\n",
       "dtype: int64"
      ]
     },
     "execution_count": 14,
     "metadata": {},
     "output_type": "execute_result"
    }
   ],
   "source": [
    "df.isnull().sum()"
   ]
  },
  {
   "cell_type": "code",
   "execution_count": 15,
   "id": "d6a66415",
   "metadata": {},
   "outputs": [
    {
     "data": {
      "text/plain": [
       "0    100\n",
       "Name: Speed Limit, dtype: object"
      ]
     },
     "execution_count": 15,
     "metadata": {},
     "output_type": "execute_result"
    }
   ],
   "source": [
    "df['Speed Limit'].mode()"
   ]
  },
  {
   "cell_type": "code",
   "execution_count": 16,
   "id": "2ea042e3",
   "metadata": {},
   "outputs": [],
   "source": [
    "df['Speed Limit'].fillna(df['Speed Limit'].mode()[0],inplace=True)"
   ]
  },
  {
   "cell_type": "code",
   "execution_count": 17,
   "id": "28416d38",
   "metadata": {},
   "outputs": [
    {
     "data": {
      "text/plain": [
       "0"
      ]
     },
     "execution_count": 17,
     "metadata": {},
     "output_type": "execute_result"
    }
   ],
   "source": [
    "df['Speed Limit'].isnull().sum()"
   ]
  },
  {
   "cell_type": "code",
   "execution_count": 18,
   "id": "0f448d7d",
   "metadata": {},
   "outputs": [],
   "source": [
    "mode_cols = [\"Bus Involvement\",\"Articulated Truck Involvement\",\"Gender\",\"Age Group\"]\n",
    "for col in mode_cols:\n",
    "    df[col].fillna(df[col].mode()[0], inplace=True)"
   ]
  },
  {
   "cell_type": "code",
   "execution_count": 19,
   "id": "6b79edd8",
   "metadata": {},
   "outputs": [
    {
     "data": {
      "text/plain": [
       "Crash ID                          0\n",
       "State                             0\n",
       "Month                             0\n",
       "Year                              0\n",
       "Dayweek                           0\n",
       "Time                             40\n",
       "Crash Type                        0\n",
       "Bus Involvement                   0\n",
       "Articulated Truck Involvement     0\n",
       "Speed Limit                       0\n",
       "Road User                         0\n",
       "Gender                            0\n",
       "Age                               0\n",
       "Christmas Period                  0\n",
       "Easter Period                     0\n",
       "Age Group                         0\n",
       "Day of week                       0\n",
       "Time of day                       0\n",
       "dtype: int64"
      ]
     },
     "execution_count": 19,
     "metadata": {},
     "output_type": "execute_result"
    }
   ],
   "source": [
    "df.isnull().sum()"
   ]
  },
  {
   "cell_type": "code",
   "execution_count": 20,
   "id": "9b838ea3",
   "metadata": {},
   "outputs": [],
   "source": [
    "df[\"Time\"] = df[\"Time\"].str.split(\":\").str.join(\".\")"
   ]
  },
  {
   "cell_type": "code",
   "execution_count": 21,
   "id": "86e581c5",
   "metadata": {},
   "outputs": [],
   "source": [
    "df[\"Time\"] = df[\"Time\"].astype(\"float64\")"
   ]
  },
  {
   "cell_type": "code",
   "execution_count": 22,
   "id": "0f44dc0d",
   "metadata": {},
   "outputs": [],
   "source": [
    "df[\"Time\"].fillna(df[\"Time\"].median(), inplace=True)\n"
   ]
  },
  {
   "cell_type": "code",
   "execution_count": 23,
   "id": "91e6f397",
   "metadata": {},
   "outputs": [
    {
     "data": {
      "text/plain": [
       "Crash ID                         0\n",
       "State                            0\n",
       "Month                            0\n",
       "Year                             0\n",
       "Dayweek                          0\n",
       "Time                             0\n",
       "Crash Type                       0\n",
       "Bus Involvement                  0\n",
       "Articulated Truck Involvement    0\n",
       "Speed Limit                      0\n",
       "Road User                        0\n",
       "Gender                           0\n",
       "Age                              0\n",
       "Christmas Period                 0\n",
       "Easter Period                    0\n",
       "Age Group                        0\n",
       "Day of week                      0\n",
       "Time of day                      0\n",
       "dtype: int64"
      ]
     },
     "execution_count": 23,
     "metadata": {},
     "output_type": "execute_result"
    }
   ],
   "source": [
    "df.isnull().sum()"
   ]
  },
  {
   "cell_type": "code",
   "execution_count": 24,
   "id": "cbae4467",
   "metadata": {},
   "outputs": [
    {
     "data": {
      "text/html": [
       "<div>\n",
       "<style scoped>\n",
       "    .dataframe tbody tr th:only-of-type {\n",
       "        vertical-align: middle;\n",
       "    }\n",
       "\n",
       "    .dataframe tbody tr th {\n",
       "        vertical-align: top;\n",
       "    }\n",
       "\n",
       "    .dataframe thead th {\n",
       "        text-align: right;\n",
       "    }\n",
       "</style>\n",
       "<table border=\"1\" class=\"dataframe\">\n",
       "  <thead>\n",
       "    <tr style=\"text-align: right;\">\n",
       "      <th></th>\n",
       "      <th>Crash ID</th>\n",
       "      <th>State</th>\n",
       "      <th>Month</th>\n",
       "      <th>Year</th>\n",
       "      <th>Dayweek</th>\n",
       "      <th>Time</th>\n",
       "      <th>Crash Type</th>\n",
       "      <th>Bus Involvement</th>\n",
       "      <th>Articulated Truck Involvement</th>\n",
       "      <th>Speed Limit</th>\n",
       "      <th>Road User</th>\n",
       "      <th>Gender</th>\n",
       "      <th>Age</th>\n",
       "      <th>Christmas Period</th>\n",
       "      <th>Easter Period</th>\n",
       "      <th>Age Group</th>\n",
       "      <th>Day of week</th>\n",
       "      <th>Time of day</th>\n",
       "    </tr>\n",
       "  </thead>\n",
       "  <tbody>\n",
       "    <tr>\n",
       "      <th>0</th>\n",
       "      <td>20212133</td>\n",
       "      <td>Vic</td>\n",
       "      <td>9</td>\n",
       "      <td>2021</td>\n",
       "      <td>Sunday</td>\n",
       "      <td>0.30</td>\n",
       "      <td>Single</td>\n",
       "      <td>No</td>\n",
       "      <td>No</td>\n",
       "      <td>100</td>\n",
       "      <td>Motorcycle rider</td>\n",
       "      <td>Male</td>\n",
       "      <td>38</td>\n",
       "      <td>No</td>\n",
       "      <td>No</td>\n",
       "      <td>26_to_39</td>\n",
       "      <td>Weekend</td>\n",
       "      <td>Night</td>\n",
       "    </tr>\n",
       "    <tr>\n",
       "      <th>1</th>\n",
       "      <td>20214022</td>\n",
       "      <td>SA</td>\n",
       "      <td>9</td>\n",
       "      <td>2021</td>\n",
       "      <td>Saturday</td>\n",
       "      <td>23.31</td>\n",
       "      <td>Multiple</td>\n",
       "      <td>No</td>\n",
       "      <td>No</td>\n",
       "      <td>110</td>\n",
       "      <td>Pedestrian</td>\n",
       "      <td>Female</td>\n",
       "      <td>28</td>\n",
       "      <td>No</td>\n",
       "      <td>No</td>\n",
       "      <td>26_to_39</td>\n",
       "      <td>Weekend</td>\n",
       "      <td>Night</td>\n",
       "    </tr>\n",
       "    <tr>\n",
       "      <th>2</th>\n",
       "      <td>20212096</td>\n",
       "      <td>Vic</td>\n",
       "      <td>9</td>\n",
       "      <td>2021</td>\n",
       "      <td>Saturday</td>\n",
       "      <td>23.00</td>\n",
       "      <td>Single</td>\n",
       "      <td>No</td>\n",
       "      <td>No</td>\n",
       "      <td>100</td>\n",
       "      <td>Passenger</td>\n",
       "      <td>Male</td>\n",
       "      <td>19</td>\n",
       "      <td>No</td>\n",
       "      <td>No</td>\n",
       "      <td>17_to_25</td>\n",
       "      <td>Weekend</td>\n",
       "      <td>Night</td>\n",
       "    </tr>\n",
       "    <tr>\n",
       "      <th>3</th>\n",
       "      <td>20212145</td>\n",
       "      <td>Vic</td>\n",
       "      <td>9</td>\n",
       "      <td>2021</td>\n",
       "      <td>Saturday</td>\n",
       "      <td>22.25</td>\n",
       "      <td>Single</td>\n",
       "      <td>No</td>\n",
       "      <td>No</td>\n",
       "      <td>100</td>\n",
       "      <td>Driver</td>\n",
       "      <td>Male</td>\n",
       "      <td>23</td>\n",
       "      <td>No</td>\n",
       "      <td>No</td>\n",
       "      <td>17_to_25</td>\n",
       "      <td>Weekend</td>\n",
       "      <td>Night</td>\n",
       "    </tr>\n",
       "    <tr>\n",
       "      <th>4</th>\n",
       "      <td>20212075</td>\n",
       "      <td>Vic</td>\n",
       "      <td>9</td>\n",
       "      <td>2021</td>\n",
       "      <td>Saturday</td>\n",
       "      <td>5.15</td>\n",
       "      <td>Single</td>\n",
       "      <td>No</td>\n",
       "      <td>No</td>\n",
       "      <td>100</td>\n",
       "      <td>Motorcycle rider</td>\n",
       "      <td>Male</td>\n",
       "      <td>46</td>\n",
       "      <td>No</td>\n",
       "      <td>No</td>\n",
       "      <td>40_to_64</td>\n",
       "      <td>Weekend</td>\n",
       "      <td>Night</td>\n",
       "    </tr>\n",
       "  </tbody>\n",
       "</table>\n",
       "</div>"
      ],
      "text/plain": [
       "   Crash ID State  Month  Year   Dayweek   Time Crash Type Bus Involvement  \\\n",
       "0  20212133   Vic      9  2021    Sunday   0.30     Single              No   \n",
       "1  20214022    SA      9  2021  Saturday  23.31   Multiple              No   \n",
       "2  20212096   Vic      9  2021  Saturday  23.00     Single              No   \n",
       "3  20212145   Vic      9  2021  Saturday  22.25     Single              No   \n",
       "4  20212075   Vic      9  2021  Saturday   5.15     Single              No   \n",
       "\n",
       "  Articulated Truck Involvement Speed Limit         Road User  Gender  Age  \\\n",
       "0                            No         100  Motorcycle rider    Male   38   \n",
       "1                            No         110        Pedestrian  Female   28   \n",
       "2                            No         100         Passenger    Male   19   \n",
       "3                            No         100            Driver    Male   23   \n",
       "4                            No         100  Motorcycle rider    Male   46   \n",
       "\n",
       "  Christmas Period Easter Period Age Group Day of week Time of day  \n",
       "0               No            No  26_to_39     Weekend       Night  \n",
       "1               No            No  26_to_39     Weekend       Night  \n",
       "2               No            No  17_to_25     Weekend       Night  \n",
       "3               No            No  17_to_25     Weekend       Night  \n",
       "4               No            No  40_to_64     Weekend       Night  "
      ]
     },
     "execution_count": 24,
     "metadata": {},
     "output_type": "execute_result"
    }
   ],
   "source": [
    "df.head()"
   ]
  },
  {
   "cell_type": "markdown",
   "id": "0c595f5b",
   "metadata": {},
   "source": [
    "### Q1. Number of type of Road users involved in road accidents?"
   ]
  },
  {
   "cell_type": "code",
   "execution_count": 25,
   "id": "9bf6e88f",
   "metadata": {},
   "outputs": [
    {
     "data": {
      "text/plain": [
       "7"
      ]
     },
     "execution_count": 25,
     "metadata": {},
     "output_type": "execute_result"
    }
   ],
   "source": [
    "df['Road User'].nunique()"
   ]
  },
  {
   "cell_type": "code",
   "execution_count": 26,
   "id": "304bf11e",
   "metadata": {},
   "outputs": [
    {
     "data": {
      "text/plain": [
       "Driver                          23816\n",
       "Passenger                       12269\n",
       "Pedestrian                       8242\n",
       "Motorcycle rider                 6637\n",
       "Pedal cyclist                    1424\n",
       "Motorcycle pillion passenger      363\n",
       "Other/-9                           92\n",
       "Name: Road User, dtype: int64"
      ]
     },
     "execution_count": 26,
     "metadata": {},
     "output_type": "execute_result"
    }
   ],
   "source": [
    "df['Road User'].value_counts()"
   ]
  },
  {
   "cell_type": "markdown",
   "id": "5e764319",
   "metadata": {},
   "source": [
    "### Q2. Most likely age group affected due to road accidents?"
   ]
  },
  {
   "cell_type": "code",
   "execution_count": null,
   "id": "1c2de659",
   "metadata": {},
   "outputs": [],
   "source": []
  },
  {
   "cell_type": "code",
   "execution_count": 27,
   "id": "83cad81f",
   "metadata": {},
   "outputs": [
    {
     "data": {
      "text/plain": [
       "17_to_25       13861\n",
       "40_to_64       13415\n",
       "26_to_39       12364\n",
       "75_or_older     5110\n",
       "0_to_16         4080\n",
       "65_to_74        4013\n",
       "Name: Age Group, dtype: int64"
      ]
     },
     "execution_count": 27,
     "metadata": {},
     "output_type": "execute_result"
    }
   ],
   "source": [
    "df['Age Group'].value_counts()"
   ]
  },
  {
   "cell_type": "markdown",
   "id": "ab583af9",
   "metadata": {},
   "source": [
    "### Q3. What kind of crash type happens mostly? "
   ]
  },
  {
   "cell_type": "code",
   "execution_count": 28,
   "id": "628f3cf6",
   "metadata": {},
   "outputs": [
    {
     "data": {
      "text/plain": [
       "Single      29249\n",
       "Multiple    23594\n",
       "Name: Crash Type, dtype: int64"
      ]
     },
     "execution_count": 28,
     "metadata": {},
     "output_type": "execute_result"
    }
   ],
   "source": [
    "df['Crash Type'].value_counts()"
   ]
  },
  {
   "cell_type": "markdown",
   "id": "ad6d3058",
   "metadata": {},
   "source": [
    "### Q4.At what speed limit most of the road accidents happen?"
   ]
  },
  {
   "cell_type": "code",
   "execution_count": 29,
   "id": "9404e107",
   "metadata": {},
   "outputs": [
    {
     "data": {
      "text/plain": [
       "100            11722\n",
       "100             7228\n",
       "60              7123\n",
       "60              6563\n",
       "80              4439\n",
       "110             3970\n",
       "50              2883\n",
       "110             2068\n",
       "70              1888\n",
       "80              1680\n",
       "90               820\n",
       "-9               684\n",
       "70               650\n",
       "90               317\n",
       "40               299\n",
       "75               252\n",
       "130              116\n",
       "40                47\n",
       "20                24\n",
       "50                20\n",
       "10                18\n",
       "30                11\n",
       "<40                5\n",
       "30                 3\n",
       "20                 3\n",
       "5                  3\n",
       "Unspecified        2\n",
       "75                 2\n",
       "25                 2\n",
       "15                 1\n",
       "Name: Speed Limit, dtype: int64"
      ]
     },
     "execution_count": 29,
     "metadata": {},
     "output_type": "execute_result"
    }
   ],
   "source": [
    "df['Speed Limit'].value_counts()"
   ]
  },
  {
   "cell_type": "markdown",
   "id": "5e954f8e",
   "metadata": {},
   "source": [
    "### Q5. Most of the road accidents happen at what time of the day?"
   ]
  },
  {
   "cell_type": "code",
   "execution_count": 30,
   "id": "fa1543a5",
   "metadata": {},
   "outputs": [
    {
     "data": {
      "text/plain": [
       "Day      30117\n",
       "Night    22726\n",
       "Name: Time of day, dtype: int64"
      ]
     },
     "execution_count": 30,
     "metadata": {},
     "output_type": "execute_result"
    }
   ],
   "source": [
    "df['Time of day'].value_counts()"
   ]
  },
  {
   "cell_type": "markdown",
   "id": "2bcc52e6",
   "metadata": {},
   "source": [
    "# Analysis"
   ]
  },
  {
   "cell_type": "code",
   "execution_count": 31,
   "id": "9a81973b",
   "metadata": {
    "scrolled": false
   },
   "outputs": [
    {
     "data": {
      "text/plain": [
       "<AxesSubplot:>"
      ]
     },
     "execution_count": 31,
     "metadata": {},
     "output_type": "execute_result"
    },
    {
     "data": {
      "image/png": "[encoded data removed]",
      "text/plain": [
       "<Figure size 432x288 with 1 Axes>"
      ]
     },
     "metadata": {
      "needs_background": "light"
     },
     "output_type": "display_data"
    }
   ],
   "source": [
    "sns.boxplot(data=df.loc[:, ['Speed Limit', 'Age']])"
   ]
  },
  {
   "cell_type": "code",
   "execution_count": 32,
   "id": "5c594a42",
   "metadata": {},
   "outputs": [
    {
     "data": {
      "image/png": "[encoded data removed]",
      "text/plain": [
       "<Figure size 1080x648 with 5 Axes>"
      ]
     },
     "metadata": {
      "needs_background": "light"
     },
     "output_type": "display_data"
    }
   ],
   "source": [
    "cols = 5\n",
    "rows = 6\n",
    "num_cols = df.select_dtypes(exclude='object').columns\n",
    "fig = plt.figure(figsize= (15,9))\n",
    "for i, col in enumerate(num_cols):\n",
    "        \n",
    "        ax=fig.add_subplot( rows, cols, i+1)\n",
    "        \n",
    "        sns.boxplot(x=df[col], ax=ax)\n",
    "fig.tight_layout()\n",
    "plt.show()"
   ]
  },
  {
   "cell_type": "code",
   "execution_count": 33,
   "id": "693180ca",
   "metadata": {},
   "outputs": [
    {
     "data": {
      "image/png": "[encoded data removed]",
      "text/plain": [
       "<Figure size 1440x2160 with 5 Axes>"
      ]
     },
     "metadata": {
      "needs_background": "light"
     },
     "output_type": "display_data"
    }
   ],
   "source": [
    "cols = 5\n",
    "rows = 6\n",
    "num_cols = df.select_dtypes(exclude='object').columns #excluding dtypes object\n",
    "\n",
    "fig = plt.figure( figsize=(cols*4, rows*5))\n",
    "for i, col in enumerate(num_cols):\n",
    "    \n",
    "    ax=fig.add_subplot(rows,cols,i+1)\n",
    "    \n",
    "    sns.histplot(x = df[col], ax = ax)\n",
    "    \n",
    "fig.tight_layout()  \n",
    "plt.show()"
   ]
  },
  {
   "cell_type": "code",
   "execution_count": 34,
   "id": "430704f2",
   "metadata": {},
   "outputs": [
    {
     "data": {
      "text/plain": [
       "<AxesSubplot:xlabel='Age', ylabel='Density'>"
      ]
     },
     "execution_count": 34,
     "metadata": {},
     "output_type": "execute_result"
    },
    {
     "data": {
      "image/png": "[encoded data removed]",
      "text/plain": [
       "<Figure size 432x288 with 1 Axes>"
      ]
     },
     "metadata": {
      "needs_background": "light"
     },
     "output_type": "display_data"
    }
   ],
   "source": [
    "sns.kdeplot(x='Age', data=df, hue='Time of day')"
   ]
  },
  {
   "cell_type": "code",
   "execution_count": 35,
   "id": "284e69be",
   "metadata": {},
   "outputs": [
    {
     "data": {
      "text/plain": [
       "<AxesSubplot:xlabel='Age'>"
      ]
     },
     "execution_count": 35,
     "metadata": {},
     "output_type": "execute_result"
    },
    {
     "data": {
      "image/png": "[encoded data removed]",
      "text/plain": [
       "<Figure size 432x288 with 1 Axes>"
      ]
     },
     "metadata": {
      "needs_background": "light"
     },
     "output_type": "display_data"
    }
   ],
   "source": [
    "sns.violinplot(x=df[\"Age\"])"
   ]
  },
  {
   "cell_type": "code",
   "execution_count": 36,
   "id": "8beb3333",
   "metadata": {},
   "outputs": [
    {
     "ename": "ValueError",
     "evalue": "num must be 1 <= num <= 9, not 10",
     "output_type": "error",
     "traceback": [
      "\u001b[1;31m---------------------------------------------------------------------------\u001b[0m",
      "\u001b[1;31mValueError\u001b[0m                                Traceback (most recent call last)",
      "Input \u001b[1;32mIn [36]\u001b[0m, in \u001b[0;36m<cell line: 6>\u001b[1;34m()\u001b[0m\n\u001b[0;32m      5\u001b[0m cat_cols \u001b[38;5;241m=\u001b[39m all_categs\u001b[38;5;241m.\u001b[39mcolumns[all_categs\u001b[38;5;241m.\u001b[39mnunique() \u001b[38;5;241m<\u001b[39m\u001b[38;5;241m=\u001b[39m \u001b[38;5;241m10\u001b[39m]\n\u001b[0;32m      6\u001b[0m \u001b[38;5;28;01mfor\u001b[39;00m i, col \u001b[38;5;129;01min\u001b[39;00m \u001b[38;5;28menumerate\u001b[39m(cat_cols):\n\u001b[1;32m----> 8\u001b[0m     ax\u001b[38;5;241m=\u001b[39m\u001b[43mfig\u001b[49m\u001b[38;5;241;43m.\u001b[39;49m\u001b[43madd_subplot\u001b[49m\u001b[43m(\u001b[49m\u001b[43mrows\u001b[49m\u001b[43m,\u001b[49m\u001b[43m \u001b[49m\u001b[43mcols\u001b[49m\u001b[43m,\u001b[49m\u001b[43m \u001b[49m\u001b[43mi\u001b[49m\u001b[38;5;241;43m+\u001b[39;49m\u001b[38;5;241;43m1\u001b[39;49m\u001b[43m)\u001b[49m\n\u001b[0;32m     10\u001b[0m     sns\u001b[38;5;241m.\u001b[39mcountplot(x\u001b[38;5;241m=\u001b[39mdf[col], ax\u001b[38;5;241m=\u001b[39max)\n\u001b[0;32m     12\u001b[0m     plt\u001b[38;5;241m.\u001b[39mxticks(rotation\u001b[38;5;241m=\u001b[39m\u001b[38;5;241m45\u001b[39m, ha\u001b[38;5;241m=\u001b[39m\u001b[38;5;124m'\u001b[39m\u001b[38;5;124mright\u001b[39m\u001b[38;5;124m'\u001b[39m)\n",
      "File \u001b[1;32m~\\anaconda3\\lib\\site-packages\\matplotlib\\figure.py:772\u001b[0m, in \u001b[0;36mFigureBase.add_subplot\u001b[1;34m(self, *args, **kwargs)\u001b[0m\n\u001b[0;32m    769\u001b[0m         args \u001b[38;5;241m=\u001b[39m \u001b[38;5;28mtuple\u001b[39m(\u001b[38;5;28mmap\u001b[39m(\u001b[38;5;28mint\u001b[39m, \u001b[38;5;28mstr\u001b[39m(args[\u001b[38;5;241m0\u001b[39m])))\n\u001b[0;32m    770\u001b[0m     projection_class, pkw \u001b[38;5;241m=\u001b[39m \u001b[38;5;28mself\u001b[39m\u001b[38;5;241m.\u001b[39m_process_projection_requirements(\n\u001b[0;32m    771\u001b[0m         \u001b[38;5;241m*\u001b[39margs, \u001b[38;5;241m*\u001b[39m\u001b[38;5;241m*\u001b[39mkwargs)\n\u001b[1;32m--> 772\u001b[0m     ax \u001b[38;5;241m=\u001b[39m subplot_class_factory(projection_class)(\u001b[38;5;28mself\u001b[39m, \u001b[38;5;241m*\u001b[39margs, \u001b[38;5;241m*\u001b[39m\u001b[38;5;241m*\u001b[39mpkw)\n\u001b[0;32m    773\u001b[0m     key \u001b[38;5;241m=\u001b[39m (projection_class, pkw)\n\u001b[0;32m    774\u001b[0m \u001b[38;5;28;01mreturn\u001b[39;00m \u001b[38;5;28mself\u001b[39m\u001b[38;5;241m.\u001b[39m_add_axes_internal(ax, key)\n",
      "File \u001b[1;32m~\\anaconda3\\lib\\site-packages\\matplotlib\\axes\\_subplots.py:36\u001b[0m, in \u001b[0;36mSubplotBase.__init__\u001b[1;34m(self, fig, *args, **kwargs)\u001b[0m\n\u001b[0;32m     34\u001b[0m \u001b[38;5;28mself\u001b[39m\u001b[38;5;241m.\u001b[39m_axes_class\u001b[38;5;241m.\u001b[39m\u001b[38;5;21m__init__\u001b[39m(\u001b[38;5;28mself\u001b[39m, fig, [\u001b[38;5;241m0\u001b[39m, \u001b[38;5;241m0\u001b[39m, \u001b[38;5;241m1\u001b[39m, \u001b[38;5;241m1\u001b[39m], \u001b[38;5;241m*\u001b[39m\u001b[38;5;241m*\u001b[39mkwargs)\n\u001b[0;32m     35\u001b[0m \u001b[38;5;66;03m# This will also update the axes position.\u001b[39;00m\n\u001b[1;32m---> 36\u001b[0m \u001b[38;5;28mself\u001b[39m\u001b[38;5;241m.\u001b[39mset_subplotspec(\u001b[43mSubplotSpec\u001b[49m\u001b[38;5;241;43m.\u001b[39;49m\u001b[43m_from_subplot_args\u001b[49m\u001b[43m(\u001b[49m\u001b[43mfig\u001b[49m\u001b[43m,\u001b[49m\u001b[43m \u001b[49m\u001b[43margs\u001b[49m\u001b[43m)\u001b[49m)\n",
      "File \u001b[1;32m~\\anaconda3\\lib\\site-packages\\matplotlib\\gridspec.py:608\u001b[0m, in \u001b[0;36mSubplotSpec._from_subplot_args\u001b[1;34m(figure, args)\u001b[0m\n\u001b[0;32m    606\u001b[0m \u001b[38;5;28;01melse\u001b[39;00m:\n\u001b[0;32m    607\u001b[0m     \u001b[38;5;28;01mif\u001b[39;00m \u001b[38;5;129;01mnot\u001b[39;00m \u001b[38;5;28misinstance\u001b[39m(num, Integral) \u001b[38;5;129;01mor\u001b[39;00m num \u001b[38;5;241m<\u001b[39m \u001b[38;5;241m1\u001b[39m \u001b[38;5;129;01mor\u001b[39;00m num \u001b[38;5;241m>\u001b[39m rows\u001b[38;5;241m*\u001b[39mcols:\n\u001b[1;32m--> 608\u001b[0m         \u001b[38;5;28;01mraise\u001b[39;00m \u001b[38;5;167;01mValueError\u001b[39;00m(\n\u001b[0;32m    609\u001b[0m             \u001b[38;5;124mf\u001b[39m\u001b[38;5;124m\"\u001b[39m\u001b[38;5;124mnum must be 1 <= num <= \u001b[39m\u001b[38;5;132;01m{\u001b[39;00mrows\u001b[38;5;241m*\u001b[39mcols\u001b[38;5;132;01m}\u001b[39;00m\u001b[38;5;124m, not \u001b[39m\u001b[38;5;132;01m{\u001b[39;00mnum\u001b[38;5;132;01m!r}\u001b[39;00m\u001b[38;5;124m\"\u001b[39m)\n\u001b[0;32m    610\u001b[0m     i \u001b[38;5;241m=\u001b[39m j \u001b[38;5;241m=\u001b[39m num\n\u001b[0;32m    611\u001b[0m \u001b[38;5;28;01mreturn\u001b[39;00m gs[i\u001b[38;5;241m-\u001b[39m\u001b[38;5;241m1\u001b[39m:j]\n",
      "\u001b[1;31mValueError\u001b[0m: num must be 1 <= num <= 9, not 10"
     ]
    },
    {
     "data": {
      "image/png": "[encoded data removed]",
      "text/plain": [
       "<Figure size 1152x1152 with 9 Axes>"
      ]
     },
     "metadata": {
      "needs_background": "light"
     },
     "output_type": "display_data"
    }
   ],
   "source": [
    "cols = 3\n",
    "rows = 3\n",
    "fig = plt.figure(figsize= (16,16))\n",
    "all_categs = df.select_dtypes(include='object')\n",
    "cat_cols = all_categs.columns[all_categs.nunique() <= 10]\n",
    "for i, col in enumerate(cat_cols):\n",
    "    \n",
    "    ax=fig.add_subplot(rows, cols, i+1)\n",
    "    \n",
    "    sns.countplot(x=df[col], ax=ax)\n",
    "    \n",
    "    plt.xticks(rotation=45, ha='right')\n",
    "    \n",
    "fig.tight_layout()  \n",
    "plt.show()"
   ]
  },
  {
   "cell_type": "code",
   "execution_count": 37,
   "id": "877071b1",
   "metadata": {},
   "outputs": [
    {
     "data": {
      "image/png": "[encoded data removed]",
      "text/plain": [
       "<Figure size 360x360 with 1 Axes>"
      ]
     },
     "metadata": {},
     "output_type": "display_data"
    }
   ],
   "source": [
    "plt.figure(figsize=(5,5))\n",
    "data1 = df['Speed Limit'].value_counts()\n",
    "plt.pie(data1, labels=data1.index, autopct=\"%.0f%%\");"
   ]
  },
  {
   "cell_type": "code",
   "execution_count": 38,
   "id": "f5f94380",
   "metadata": {},
   "outputs": [
    {
     "data": {
      "text/plain": [
       "<AxesSubplot:xlabel='Speed Limit', ylabel='Time'>"
      ]
     },
     "execution_count": 38,
     "metadata": {},
     "output_type": "execute_result"
    },
    {
     "data": {
      "image/png": "[encoded data removed]",
      "text/plain": [
       "<Figure size 504x504 with 1 Axes>"
      ]
     },
     "metadata": {
      "needs_background": "light"
     },
     "output_type": "display_data"
    }
   ],
   "source": [
    "plt.figure(figsize=(7,7))\n",
    "sns.barplot(x='Speed Limit',y='Time',data=df) #barplot between Balance and CreditScore\n"
   ]
  },
  {
   "cell_type": "code",
   "execution_count": 39,
   "id": "73926504",
   "metadata": {},
   "outputs": [
    {
     "data": {
      "image/png": "[encoded data removed]",
      "text/plain": [
       "<Figure size 432x288 with 1 Axes>"
      ]
     },
     "metadata": {
      "needs_background": "light"
     },
     "output_type": "display_data"
    }
   ],
   "source": [
    "sns.boxplot(x='Gender',y='Age',data=df, palette='rainbow')\n",
    "plt.show()"
   ]
  },
  {
   "cell_type": "code",
   "execution_count": 42,
   "id": "8eb42ed7",
   "metadata": {},
   "outputs": [],
   "source": [
    "df_m = df[df['Gender']=='Male']\n",
    "df_w =  df[df['Gender']=='Female']"
   ]
  },
  {
   "cell_type": "code",
   "execution_count": 43,
   "id": "0a28d52c",
   "metadata": {},
   "outputs": [
    {
     "data": {
      "text/plain": [
       "33.0"
      ]
     },
     "execution_count": 43,
     "metadata": {},
     "output_type": "execute_result"
    }
   ],
   "source": [
    "np.percentile(df_m['Age'],50)"
   ]
  },
  {
   "cell_type": "code",
   "execution_count": 44,
   "id": "c5ef8d1d",
   "metadata": {},
   "outputs": [
    {
     "data": {
      "text/plain": [
       "40.0"
      ]
     },
     "execution_count": 44,
     "metadata": {},
     "output_type": "execute_result"
    }
   ],
   "source": [
    "np.percentile(df_w['Age'],50)"
   ]
  },
  {
   "cell_type": "code",
   "execution_count": 41,
   "id": "dc67b12e",
   "metadata": {},
   "outputs": [
    {
     "data": {
      "image/png": "[encoded data removed]",
      "text/plain": [
       "<Figure size 720x432 with 2 Axes>"
      ]
     },
     "metadata": {
      "needs_background": "light"
     },
     "output_type": "display_data"
    }
   ],
   "source": [
    "f,ax = plt.subplots(figsize=(10,6))\n",
    "sns.heatmap(df.corr(),annot=True)\n",
    "plt.show()"
   ]
  },
  {
   "cell_type": "code",
   "execution_count": null,
   "id": "0728e623",
   "metadata": {},
   "outputs": [],
   "source": []
  }
 ],
 "metadata": {
  "kernelspec": {
   "display_name": "Python 3 (ipykernel)",
   "language": "python",
   "name": "python3"
  },
  "language_info": {
   "codemirror_mode": {
    "name": "ipython",
    "version": 3
   },
   "file_extension": ".py",
   "mimetype": "text/x-python",
   "name": "python",
   "nbconvert_exporter": "python",
   "pygments_lexer": "ipython3",
   "version": "3.9.12"
  }
 },
 "nbformat": 4,
 "nbformat_minor": 5
}
